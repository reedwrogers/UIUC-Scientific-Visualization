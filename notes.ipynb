version https://git-lfs.github.com/spec/v1
oid sha256:19ef19449945b3ccfae75bc2b3735d07c8bf580114b0707abe5e37bf448a9b5b
size 151171072
