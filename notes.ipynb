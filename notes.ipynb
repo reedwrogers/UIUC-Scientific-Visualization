{
 "cells": [
  {
   "cell_type": "markdown",
   "id": "407c47dd-3338-4a98-ad73-0180231f8579",
   "metadata": {},
   "source": [
    "# Week 1"
   ]
  },
  {
   "cell_type": "markdown",
   "id": "5436033e-dae0-4875-8129-c6713a7bc380",
   "metadata": {},
   "source": [
    "## What is Scientific Visualization?"
   ]
  },
  {
   "cell_type": "markdown",
   "id": "2f9f5ced-2652-4084-a6fa-3ff22fc905cb",
   "metadata": {},
   "source": [
    "- visualization can mean many things\n",
    "- data visualization\n",
    "  - refers to visual techniques used to present information to other people\n",
    "  - Charles Minard's chart: shows Napoleonic France's invasion of Russia\n",
    "- information visualization\n",
    "  - refers to the idea of displaying information that does not have some inherent spacial visual form\n",
    "  - not a map or some physical space\n",
    "  - for example, a graph showing shared scenes of characters in a novel\n",
    "- scientific visualization\n",
    "  - using visual techniques to display information that does have some sort of spatial or physical form\n",
    "- distinction between information viz and scientific viz is not hard and fast: one is not necessarily not the other\n",
    "  - the fields are more similar than different\n",
    "- visual analytics\n",
    "  - focuses on how to create computational tools for data analysis that use visualization\n",
    "  - like a tool that allows you to make decisions about warranty information\n",
    "- Topics for this semester\n",
    "  - terrain visualization\n",
    "    - visualization of global surface water temperature, for example\n",
    "  - volume visualization\n",
    "    - a simulation of a supernova\n",
    "    - allows us to see many layers, trying to visualize some 3d space that is filled with a scalar field without obscuring anything\n",
    "  - Isosurfaces\n",
    "    - seeing bone in an MRI\n",
    "  - flow visualization\n",
    "    - moves from scalar to vector\n",
    "  - tensor field visualization\n",
    "    - tensors are sort of a generalization of vectors\n",
    "    - at a point in space, information about something going in all directions (tensor)\n",
    "    - can be applied in brain MRI's with tractography\n",
    "  - bioinformatics visualization\n",
    "    - comparing and exploring 2D genomic contact matrices"
   ]
  },
  {
   "cell_type": "markdown",
   "id": "edaea6ae-c5bd-4b32-8c8d-8f070ab9a103",
   "metadata": {},
   "source": [
    "## The Purposes of Visualization"
   ]
  },
  {
   "cell_type": "markdown",
   "id": "07c3c055-b50e-466a-8da4-331cf2898543",
   "metadata": {},
   "source": [
    "- this section was very visual, going through different visualizations used during the COVID-19 pandemic"
   ]
  },
  {
   "cell_type": "markdown",
   "id": "95fa1d8a-220f-4ece-bc2c-afc2d2db789d",
   "metadata": {},
   "source": [
    "## Representing Color"
   ]
  }
 ],
 "metadata": {
  "kernelspec": {
   "display_name": "Python 3 (ipykernel)",
   "language": "python",
   "name": "python3"
  },
  "language_info": {
   "codemirror_mode": {
    "name": "ipython",
    "version": 3
   },
   "file_extension": ".py",
   "mimetype": "text/x-python",
   "name": "python",
   "nbconvert_exporter": "python",
   "pygments_lexer": "ipython3",
   "version": "3.12.3"
  }
 },
 "nbformat": 4,
 "nbformat_minor": 5
}
