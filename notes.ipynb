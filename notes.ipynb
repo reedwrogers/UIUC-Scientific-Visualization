version https://git-lfs.github.com/spec/v1
oid sha256:6f022b9a40565cce502d674d283ad155b1eb06a084f9fff58ebd1463749b11a6
size 154664615
