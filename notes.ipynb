version https://git-lfs.github.com/spec/v1
oid sha256:cb7cd39753a63c06680491dc0811bc7891eddaf9144d0db76ab167cae03d4887
size 142413723
