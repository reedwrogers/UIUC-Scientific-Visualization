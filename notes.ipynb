version https://git-lfs.github.com/spec/v1
oid sha256:7d5b9fbec3f11b89014151bf6253ee9d961e498456842c823f71819fe2f08c3b
size 122729774
